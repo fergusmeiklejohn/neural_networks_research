{
 "cells": [
  {
   "cell_type": "markdown",
   "metadata": {},
   "source": [
    "# Distribution Invention: Initial Exploration\n",
    "Testing our setup and exploring initial ideas"
   ]
  },
  {
   "cell_type": "code",
   "execution_count": null,
   "metadata": {},
   "outputs": [],
   "source": [
    "import keras\n",
    "import numpy as np\n",
    "import matplotlib.pyplot as plt\n",
    "from keras import layers, ops\n",
    "\n",
    "print(f\"Keras version: {keras.__version__}\")\n",
    "print(f\"Backend: {keras.backend.backend()}\")"
   ]
  },
  {
   "cell_type": "code",
   "execution_count": null,
   "metadata": {},
   "outputs": [],
   "source": [
    "# Simple test: Can we create a layer that modifies its behavior?\n",
    "class SimpleDistributionModifier(layers.Layer):\n",
    "    def __init__(self, units=32, **kwargs):\n",
    "        super().__init__(**kwargs)\n",
    "        self.units = units\n",
    "        \n",
    "    def build(self, input_shape):\n",
    "        self.base_kernel = self.add_weight(\n",
    "            shape=(input_shape[-1], self.units),\n",
    "            initializer='random_normal',\n",
    "            trainable=True,\n",
    "            name='base_kernel'\n",
    "        )\n",
    "        self.modifier = self.add_weight(\n",
    "            shape=(input_shape[-1], self.units),\n",
    "            initializer='zeros',\n",
    "            trainable=True,\n",
    "            name='modifier'\n",
    "        )\n",
    "        \n",
    "    def call(self, inputs, modification_strength=0.0):\n",
    "        # Apply base transformation\n",
    "        base_output = ops.matmul(inputs, self.base_kernel)\n",
    "        \n",
    "        # Apply modification based on strength\n",
    "        modified_kernel = self.base_kernel + modification_strength * self.modifier\n",
    "        modified_output = ops.matmul(inputs, modified_kernel)\n",
    "        \n",
    "        return modified_output\n",
    "\n",
    "# Test the layer\n",
    "layer = SimpleDistributionModifier(16)\n",
    "test_input = ops.ones((2, 8))\n",
    "output_base = layer(test_input, modification_strength=0.0)\n",
    "output_modified = layer(test_input, modification_strength=1.0)\n",
    "\n",
    "print(f\"Base output shape: {output_base.shape}\")\n",
    "print(f\"Output difference: {ops.mean(ops.abs(output_modified - output_base))}\")"
   ]
  }
 ],
 "metadata": {
  "kernelspec": {
   "display_name": "dist-invention",
   "language": "python",
   "name": "python3"
  }
 },
 "nbformat": 4,
 "nbformat_minor": 4
}